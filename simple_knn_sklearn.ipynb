{
  "cells": [
    {
      "cell_type": "markdown",
      "metadata": {
        "id": "view-in-github",
        "colab_type": "text"
      },
      "source": [
        "<a href=\"https://colab.research.google.com/github/SahandShabanloueii/ML/blob/main/simple_knn_sklearn.ipynb\" target=\"_parent\"><img src=\"https://colab.research.google.com/assets/colab-badge.svg\" alt=\"Open In Colab\"/></a>"
      ]
    },
    {
      "cell_type": "markdown",
      "source": [
        "# **Hi, this is a simple implementation of a K-Nearest Neighbors (KNN) Classifier in python using SciKit library:**"
      ],
      "metadata": {
        "id": "bslP-GVbzYWe"
      },
      "id": "bslP-GVbzYWe"
    },
    {
      "cell_type": "markdown",
      "source": [
        "# K-Nearest Neighbors (KNN) Classifier Overview\n",
        "\n",
        "The K-Nearest Neighbors (KNN) algorithm is a versatile and widely-used classifier in the realm of machine learning. It is a non-parametric method, ideal for pattern recognition and data mining tasks. The KNN classifier operates on the principle of proximity, making predictions based on the closeness of data points.\n",
        "\n",
        "## How KNN Operates\n",
        "\n",
        "- **Supervised Learning**: KNN uses labeled training data to predict the classification of new data points.\n",
        "- **Non-Parametric Nature**: It makes no assumptions about the underlying data distribution.\n",
        "- **Proximity-Based Predictions**: The algorithm identifies the 'k' closest training examples to the new data point, and the majority class among these neighbors determines the predicted class.\n",
        "- **Distance Metric**: The Euclidean distance is the default metric, but other metrics like Manhattan or Minkowski can be employed depending on the context.\n",
        "- **Lazy Learner**: KNN is a lazy learning algorithm, meaning it does not build a model until a prediction is needed, utilizing memory to store the training dataset.\n",
        "- **Versatility**: It handles both numerical and categorical data and is less sensitive to outliers.\n",
        "- **Scalability Concerns**: While simple and effective for small datasets, KNN's performance can degrade with large datasets due to its reliance on distance calculations."
      ],
      "metadata": {
        "id": "E6nEhnPPvQ45"
      },
      "id": "E6nEhnPPvQ45"
    },
    {
      "cell_type": "markdown",
      "source": [
        "# Here we import the tools we need for the implementaion this project:"
      ],
      "metadata": {
        "id": "dka2IAORoduE"
      },
      "id": "dka2IAORoduE"
    },
    {
      "cell_type": "code",
      "execution_count": null,
      "id": "493ff2aa-0718-4b97-b241-25f8e1f332a1",
      "metadata": {
        "id": "493ff2aa-0718-4b97-b241-25f8e1f332a1"
      },
      "outputs": [],
      "source": [
        "from sklearn.datasets import make_classification\n",
        "from sklearn.neighbors import KNeighborsClassifier\n",
        "from sklearn.metrics import accuracy_score\n",
        "import pandas as pd"
      ]
    },
    {
      "cell_type": "markdown",
      "source": [
        "# Here we get a dataset with 20K samples and 8 features, with random state set to for example 34526:"
      ],
      "metadata": {
        "id": "hqH3FFyqnF-N"
      },
      "id": "hqH3FFyqnF-N"
    },
    {
      "cell_type": "code",
      "execution_count": null,
      "id": "9ce9d6e0-a8ee-4ac4-8a46-4ac5d7aaafcd",
      "metadata": {
        "id": "9ce9d6e0-a8ee-4ac4-8a46-4ac5d7aaafcd"
      },
      "outputs": [],
      "source": [
        "X, Y = make_classification(n_samples=20000, n_features=8, random_state=34526)"
      ]
    },
    {
      "cell_type": "markdown",
      "source": [
        "As we can see X is a 20K*8 matrix and the Y is a vector with a size of 20K:"
      ],
      "metadata": {
        "id": "fagYqtq3oA-a"
      },
      "id": "fagYqtq3oA-a"
    },
    {
      "cell_type": "code",
      "execution_count": null,
      "id": "b6679175-1f1e-409c-8b36-97fb48ae3015",
      "metadata": {
        "colab": {
          "base_uri": "https://localhost:8080/"
        },
        "id": "b6679175-1f1e-409c-8b36-97fb48ae3015",
        "outputId": "fc1ede07-1aa3-4bde-ce91-39d6142da10b"
      },
      "outputs": [
        {
          "output_type": "stream",
          "name": "stdout",
          "text": [
            "Shape of X: (20000, 8)\n",
            "Shape of Y: (20000,)\n"
          ]
        }
      ],
      "source": [
        "print(f\"Shape of X: {X.shape}\\nShape of Y: {Y.shape}\")"
      ]
    },
    {
      "cell_type": "markdown",
      "source": [
        "# Convert to pandas DataFrame for easier manipulation:"
      ],
      "metadata": {
        "id": "Dvac1gEDo5ak"
      },
      "id": "Dvac1gEDo5ak"
    },
    {
      "cell_type": "code",
      "execution_count": null,
      "id": "aba837ea-49aa-4af8-909c-156f9d931d04",
      "metadata": {
        "id": "aba837ea-49aa-4af8-909c-156f9d931d04"
      },
      "outputs": [],
      "source": [
        "df = pd.DataFrame(X)\n",
        "df['label'] = Y"
      ]
    },
    {
      "cell_type": "code",
      "execution_count": null,
      "id": "58797074-eb45-43c2-aeee-294f13b35d28",
      "metadata": {
        "id": "58797074-eb45-43c2-aeee-294f13b35d28"
      },
      "outputs": [],
      "source": [
        "# Shuffle the dataset\n",
        "df = df.sample(frac=1, random_state=42).reset_index(drop=True)"
      ]
    },
    {
      "cell_type": "code",
      "source": [
        "df"
      ],
      "metadata": {
        "colab": {
          "base_uri": "https://localhost:8080/",
          "height": 423
        },
        "id": "KXnJzCzarBB6",
        "outputId": "171de2a1-3e21-4a3a-9fa0-4de599c09e38"
      },
      "id": "KXnJzCzarBB6",
      "execution_count": null,
      "outputs": [
        {
          "output_type": "execute_result",
          "data": {
            "text/plain": [
              "              0         1         2         3         4         5         6  \\\n",
              "0     -2.887405  0.077387  0.039529  1.757866 -0.769964 -0.763994 -1.097254   \n",
              "1     -0.036560 -0.003198  0.002435  0.870491 -0.389032 -0.782002 -0.476001   \n",
              "2     -0.123003  0.269931  0.115519  0.948324 -1.065840 -0.945974 -0.962114   \n",
              "3     -0.959928  0.154601  0.066439  0.607170 -1.582343 -0.556328 -0.586434   \n",
              "4      1.518117 -1.456027 -0.594384  1.545800 -1.338545  1.299707  1.507575   \n",
              "...         ...       ...       ...       ...       ...       ...       ...   \n",
              "19995  0.223135 -0.880745 -0.355405  1.893598  1.110408  0.930847  0.382059   \n",
              "19996  1.079751 -0.890832 -0.363894  0.890974  0.083314  0.780984  0.952654   \n",
              "19997  0.198326  0.516239  0.217922  1.116608  0.193100  1.766564 -1.454714   \n",
              "19998 -1.216547  1.172866  0.481306 -0.662218 -0.043908 -1.763031 -1.536639   \n",
              "19999  0.321333 -0.582671 -0.243966 -0.796927 -0.926385  0.151492  1.385772   \n",
              "\n",
              "              7  label  \n",
              "0     -0.640758      1  \n",
              "1      0.336703      1  \n",
              "2      0.971849      0  \n",
              "3     -0.349004      1  \n",
              "4     -0.010668      0  \n",
              "...         ...    ...  \n",
              "19995 -1.059231      1  \n",
              "19996  0.148024      1  \n",
              "19997 -0.466108      0  \n",
              "19998  0.141922      0  \n",
              "19999 -0.063647      1  \n",
              "\n",
              "[20000 rows x 9 columns]"
            ],
            "text/html": [
              "\n",
              "  <div id=\"df-32baad30-a153-49d3-8b84-f254c8eead75\" class=\"colab-df-container\">\n",
              "    <div>\n",
              "<style scoped>\n",
              "    .dataframe tbody tr th:only-of-type {\n",
              "        vertical-align: middle;\n",
              "    }\n",
              "\n",
              "    .dataframe tbody tr th {\n",
              "        vertical-align: top;\n",
              "    }\n",
              "\n",
              "    .dataframe thead th {\n",
              "        text-align: right;\n",
              "    }\n",
              "</style>\n",
              "<table border=\"1\" class=\"dataframe\">\n",
              "  <thead>\n",
              "    <tr style=\"text-align: right;\">\n",
              "      <th></th>\n",
              "      <th>0</th>\n",
              "      <th>1</th>\n",
              "      <th>2</th>\n",
              "      <th>3</th>\n",
              "      <th>4</th>\n",
              "      <th>5</th>\n",
              "      <th>6</th>\n",
              "      <th>7</th>\n",
              "      <th>label</th>\n",
              "    </tr>\n",
              "  </thead>\n",
              "  <tbody>\n",
              "    <tr>\n",
              "      <th>0</th>\n",
              "      <td>-2.887405</td>\n",
              "      <td>0.077387</td>\n",
              "      <td>0.039529</td>\n",
              "      <td>1.757866</td>\n",
              "      <td>-0.769964</td>\n",
              "      <td>-0.763994</td>\n",
              "      <td>-1.097254</td>\n",
              "      <td>-0.640758</td>\n",
              "      <td>1</td>\n",
              "    </tr>\n",
              "    <tr>\n",
              "      <th>1</th>\n",
              "      <td>-0.036560</td>\n",
              "      <td>-0.003198</td>\n",
              "      <td>0.002435</td>\n",
              "      <td>0.870491</td>\n",
              "      <td>-0.389032</td>\n",
              "      <td>-0.782002</td>\n",
              "      <td>-0.476001</td>\n",
              "      <td>0.336703</td>\n",
              "      <td>1</td>\n",
              "    </tr>\n",
              "    <tr>\n",
              "      <th>2</th>\n",
              "      <td>-0.123003</td>\n",
              "      <td>0.269931</td>\n",
              "      <td>0.115519</td>\n",
              "      <td>0.948324</td>\n",
              "      <td>-1.065840</td>\n",
              "      <td>-0.945974</td>\n",
              "      <td>-0.962114</td>\n",
              "      <td>0.971849</td>\n",
              "      <td>0</td>\n",
              "    </tr>\n",
              "    <tr>\n",
              "      <th>3</th>\n",
              "      <td>-0.959928</td>\n",
              "      <td>0.154601</td>\n",
              "      <td>0.066439</td>\n",
              "      <td>0.607170</td>\n",
              "      <td>-1.582343</td>\n",
              "      <td>-0.556328</td>\n",
              "      <td>-0.586434</td>\n",
              "      <td>-0.349004</td>\n",
              "      <td>1</td>\n",
              "    </tr>\n",
              "    <tr>\n",
              "      <th>4</th>\n",
              "      <td>1.518117</td>\n",
              "      <td>-1.456027</td>\n",
              "      <td>-0.594384</td>\n",
              "      <td>1.545800</td>\n",
              "      <td>-1.338545</td>\n",
              "      <td>1.299707</td>\n",
              "      <td>1.507575</td>\n",
              "      <td>-0.010668</td>\n",
              "      <td>0</td>\n",
              "    </tr>\n",
              "    <tr>\n",
              "      <th>...</th>\n",
              "      <td>...</td>\n",
              "      <td>...</td>\n",
              "      <td>...</td>\n",
              "      <td>...</td>\n",
              "      <td>...</td>\n",
              "      <td>...</td>\n",
              "      <td>...</td>\n",
              "      <td>...</td>\n",
              "      <td>...</td>\n",
              "    </tr>\n",
              "    <tr>\n",
              "      <th>19995</th>\n",
              "      <td>0.223135</td>\n",
              "      <td>-0.880745</td>\n",
              "      <td>-0.355405</td>\n",
              "      <td>1.893598</td>\n",
              "      <td>1.110408</td>\n",
              "      <td>0.930847</td>\n",
              "      <td>0.382059</td>\n",
              "      <td>-1.059231</td>\n",
              "      <td>1</td>\n",
              "    </tr>\n",
              "    <tr>\n",
              "      <th>19996</th>\n",
              "      <td>1.079751</td>\n",
              "      <td>-0.890832</td>\n",
              "      <td>-0.363894</td>\n",
              "      <td>0.890974</td>\n",
              "      <td>0.083314</td>\n",
              "      <td>0.780984</td>\n",
              "      <td>0.952654</td>\n",
              "      <td>0.148024</td>\n",
              "      <td>1</td>\n",
              "    </tr>\n",
              "    <tr>\n",
              "      <th>19997</th>\n",
              "      <td>0.198326</td>\n",
              "      <td>0.516239</td>\n",
              "      <td>0.217922</td>\n",
              "      <td>1.116608</td>\n",
              "      <td>0.193100</td>\n",
              "      <td>1.766564</td>\n",
              "      <td>-1.454714</td>\n",
              "      <td>-0.466108</td>\n",
              "      <td>0</td>\n",
              "    </tr>\n",
              "    <tr>\n",
              "      <th>19998</th>\n",
              "      <td>-1.216547</td>\n",
              "      <td>1.172866</td>\n",
              "      <td>0.481306</td>\n",
              "      <td>-0.662218</td>\n",
              "      <td>-0.043908</td>\n",
              "      <td>-1.763031</td>\n",
              "      <td>-1.536639</td>\n",
              "      <td>0.141922</td>\n",
              "      <td>0</td>\n",
              "    </tr>\n",
              "    <tr>\n",
              "      <th>19999</th>\n",
              "      <td>0.321333</td>\n",
              "      <td>-0.582671</td>\n",
              "      <td>-0.243966</td>\n",
              "      <td>-0.796927</td>\n",
              "      <td>-0.926385</td>\n",
              "      <td>0.151492</td>\n",
              "      <td>1.385772</td>\n",
              "      <td>-0.063647</td>\n",
              "      <td>1</td>\n",
              "    </tr>\n",
              "  </tbody>\n",
              "</table>\n",
              "<p>20000 rows × 9 columns</p>\n",
              "</div>\n",
              "    <div class=\"colab-df-buttons\">\n",
              "\n",
              "  <div class=\"colab-df-container\">\n",
              "    <button class=\"colab-df-convert\" onclick=\"convertToInteractive('df-32baad30-a153-49d3-8b84-f254c8eead75')\"\n",
              "            title=\"Convert this dataframe to an interactive table.\"\n",
              "            style=\"display:none;\">\n",
              "\n",
              "  <svg xmlns=\"http://www.w3.org/2000/svg\" height=\"24px\" viewBox=\"0 -960 960 960\">\n",
              "    <path d=\"M120-120v-720h720v720H120Zm60-500h600v-160H180v160Zm220 220h160v-160H400v160Zm0 220h160v-160H400v160ZM180-400h160v-160H180v160Zm440 0h160v-160H620v160ZM180-180h160v-160H180v160Zm440 0h160v-160H620v160Z\"/>\n",
              "  </svg>\n",
              "    </button>\n",
              "\n",
              "  <style>\n",
              "    .colab-df-container {\n",
              "      display:flex;\n",
              "      gap: 12px;\n",
              "    }\n",
              "\n",
              "    .colab-df-convert {\n",
              "      background-color: #E8F0FE;\n",
              "      border: none;\n",
              "      border-radius: 50%;\n",
              "      cursor: pointer;\n",
              "      display: none;\n",
              "      fill: #1967D2;\n",
              "      height: 32px;\n",
              "      padding: 0 0 0 0;\n",
              "      width: 32px;\n",
              "    }\n",
              "\n",
              "    .colab-df-convert:hover {\n",
              "      background-color: #E2EBFA;\n",
              "      box-shadow: 0px 1px 2px rgba(60, 64, 67, 0.3), 0px 1px 3px 1px rgba(60, 64, 67, 0.15);\n",
              "      fill: #174EA6;\n",
              "    }\n",
              "\n",
              "    .colab-df-buttons div {\n",
              "      margin-bottom: 4px;\n",
              "    }\n",
              "\n",
              "    [theme=dark] .colab-df-convert {\n",
              "      background-color: #3B4455;\n",
              "      fill: #D2E3FC;\n",
              "    }\n",
              "\n",
              "    [theme=dark] .colab-df-convert:hover {\n",
              "      background-color: #434B5C;\n",
              "      box-shadow: 0px 1px 3px 1px rgba(0, 0, 0, 0.15);\n",
              "      filter: drop-shadow(0px 1px 2px rgba(0, 0, 0, 0.3));\n",
              "      fill: #FFFFFF;\n",
              "    }\n",
              "  </style>\n",
              "\n",
              "    <script>\n",
              "      const buttonEl =\n",
              "        document.querySelector('#df-32baad30-a153-49d3-8b84-f254c8eead75 button.colab-df-convert');\n",
              "      buttonEl.style.display =\n",
              "        google.colab.kernel.accessAllowed ? 'block' : 'none';\n",
              "\n",
              "      async function convertToInteractive(key) {\n",
              "        const element = document.querySelector('#df-32baad30-a153-49d3-8b84-f254c8eead75');\n",
              "        const dataTable =\n",
              "          await google.colab.kernel.invokeFunction('convertToInteractive',\n",
              "                                                    [key], {});\n",
              "        if (!dataTable) return;\n",
              "\n",
              "        const docLinkHtml = 'Like what you see? Visit the ' +\n",
              "          '<a target=\"_blank\" href=https://colab.research.google.com/notebooks/data_table.ipynb>data table notebook</a>'\n",
              "          + ' to learn more about interactive tables.';\n",
              "        element.innerHTML = '';\n",
              "        dataTable['output_type'] = 'display_data';\n",
              "        await google.colab.output.renderOutput(dataTable, element);\n",
              "        const docLink = document.createElement('div');\n",
              "        docLink.innerHTML = docLinkHtml;\n",
              "        element.appendChild(docLink);\n",
              "      }\n",
              "    </script>\n",
              "  </div>\n",
              "\n",
              "\n",
              "<div id=\"df-bef2fcd5-d956-4776-8b63-699e3509de12\">\n",
              "  <button class=\"colab-df-quickchart\" onclick=\"quickchart('df-bef2fcd5-d956-4776-8b63-699e3509de12')\"\n",
              "            title=\"Suggest charts\"\n",
              "            style=\"display:none;\">\n",
              "\n",
              "<svg xmlns=\"http://www.w3.org/2000/svg\" height=\"24px\"viewBox=\"0 0 24 24\"\n",
              "     width=\"24px\">\n",
              "    <g>\n",
              "        <path d=\"M19 3H5c-1.1 0-2 .9-2 2v14c0 1.1.9 2 2 2h14c1.1 0 2-.9 2-2V5c0-1.1-.9-2-2-2zM9 17H7v-7h2v7zm4 0h-2V7h2v10zm4 0h-2v-4h2v4z\"/>\n",
              "    </g>\n",
              "</svg>\n",
              "  </button>\n",
              "\n",
              "<style>\n",
              "  .colab-df-quickchart {\n",
              "      --bg-color: #E8F0FE;\n",
              "      --fill-color: #1967D2;\n",
              "      --hover-bg-color: #E2EBFA;\n",
              "      --hover-fill-color: #174EA6;\n",
              "      --disabled-fill-color: #AAA;\n",
              "      --disabled-bg-color: #DDD;\n",
              "  }\n",
              "\n",
              "  [theme=dark] .colab-df-quickchart {\n",
              "      --bg-color: #3B4455;\n",
              "      --fill-color: #D2E3FC;\n",
              "      --hover-bg-color: #434B5C;\n",
              "      --hover-fill-color: #FFFFFF;\n",
              "      --disabled-bg-color: #3B4455;\n",
              "      --disabled-fill-color: #666;\n",
              "  }\n",
              "\n",
              "  .colab-df-quickchart {\n",
              "    background-color: var(--bg-color);\n",
              "    border: none;\n",
              "    border-radius: 50%;\n",
              "    cursor: pointer;\n",
              "    display: none;\n",
              "    fill: var(--fill-color);\n",
              "    height: 32px;\n",
              "    padding: 0;\n",
              "    width: 32px;\n",
              "  }\n",
              "\n",
              "  .colab-df-quickchart:hover {\n",
              "    background-color: var(--hover-bg-color);\n",
              "    box-shadow: 0 1px 2px rgba(60, 64, 67, 0.3), 0 1px 3px 1px rgba(60, 64, 67, 0.15);\n",
              "    fill: var(--button-hover-fill-color);\n",
              "  }\n",
              "\n",
              "  .colab-df-quickchart-complete:disabled,\n",
              "  .colab-df-quickchart-complete:disabled:hover {\n",
              "    background-color: var(--disabled-bg-color);\n",
              "    fill: var(--disabled-fill-color);\n",
              "    box-shadow: none;\n",
              "  }\n",
              "\n",
              "  .colab-df-spinner {\n",
              "    border: 2px solid var(--fill-color);\n",
              "    border-color: transparent;\n",
              "    border-bottom-color: var(--fill-color);\n",
              "    animation:\n",
              "      spin 1s steps(1) infinite;\n",
              "  }\n",
              "\n",
              "  @keyframes spin {\n",
              "    0% {\n",
              "      border-color: transparent;\n",
              "      border-bottom-color: var(--fill-color);\n",
              "      border-left-color: var(--fill-color);\n",
              "    }\n",
              "    20% {\n",
              "      border-color: transparent;\n",
              "      border-left-color: var(--fill-color);\n",
              "      border-top-color: var(--fill-color);\n",
              "    }\n",
              "    30% {\n",
              "      border-color: transparent;\n",
              "      border-left-color: var(--fill-color);\n",
              "      border-top-color: var(--fill-color);\n",
              "      border-right-color: var(--fill-color);\n",
              "    }\n",
              "    40% {\n",
              "      border-color: transparent;\n",
              "      border-right-color: var(--fill-color);\n",
              "      border-top-color: var(--fill-color);\n",
              "    }\n",
              "    60% {\n",
              "      border-color: transparent;\n",
              "      border-right-color: var(--fill-color);\n",
              "    }\n",
              "    80% {\n",
              "      border-color: transparent;\n",
              "      border-right-color: var(--fill-color);\n",
              "      border-bottom-color: var(--fill-color);\n",
              "    }\n",
              "    90% {\n",
              "      border-color: transparent;\n",
              "      border-bottom-color: var(--fill-color);\n",
              "    }\n",
              "  }\n",
              "</style>\n",
              "\n",
              "  <script>\n",
              "    async function quickchart(key) {\n",
              "      const quickchartButtonEl =\n",
              "        document.querySelector('#' + key + ' button');\n",
              "      quickchartButtonEl.disabled = true;  // To prevent multiple clicks.\n",
              "      quickchartButtonEl.classList.add('colab-df-spinner');\n",
              "      try {\n",
              "        const charts = await google.colab.kernel.invokeFunction(\n",
              "            'suggestCharts', [key], {});\n",
              "      } catch (error) {\n",
              "        console.error('Error during call to suggestCharts:', error);\n",
              "      }\n",
              "      quickchartButtonEl.classList.remove('colab-df-spinner');\n",
              "      quickchartButtonEl.classList.add('colab-df-quickchart-complete');\n",
              "    }\n",
              "    (() => {\n",
              "      let quickchartButtonEl =\n",
              "        document.querySelector('#df-bef2fcd5-d956-4776-8b63-699e3509de12 button');\n",
              "      quickchartButtonEl.style.display =\n",
              "        google.colab.kernel.accessAllowed ? 'block' : 'none';\n",
              "    })();\n",
              "  </script>\n",
              "</div>\n",
              "    </div>\n",
              "  </div>\n"
            ],
            "application/vnd.google.colaboratory.intrinsic+json": {
              "type": "dataframe",
              "variable_name": "df",
              "summary": "{\n  \"name\": \"df\",\n  \"rows\": 20000,\n  \"fields\": [\n    {\n      \"column\": 0,\n      \"properties\": {\n        \"dtype\": \"number\",\n        \"std\": 1.004820863959246,\n        \"min\": -4.454453223042684,\n        \"max\": 3.8345898364013253,\n        \"num_unique_values\": 20000,\n        \"samples\": [\n          0.2969586149537221,\n          1.6777888734562472,\n          -1.0908923071459082\n        ],\n        \"semantic_type\": \"\",\n        \"description\": \"\"\n      }\n    },\n    {\n      \"column\": 1,\n      \"properties\": {\n        \"dtype\": \"number\",\n        \"std\": 0.956907328719306,\n        \"min\": -3.8136655030171944,\n        \"max\": 3.906823271824901,\n        \"num_unique_values\": 20000,\n        \"samples\": [\n          -0.6745240190811268,\n          -0.3925996046924428,\n          1.3375304538126644\n        ],\n        \"semantic_type\": \"\",\n        \"description\": \"\"\n      }\n    },\n    {\n      \"column\": 2,\n      \"properties\": {\n        \"dtype\": \"number\",\n        \"std\": 0.3926461802727369,\n        \"min\": -1.5708169129415424,\n        \"max\": 1.6060386551322472,\n        \"num_unique_values\": 20000,\n        \"samples\": [\n          -0.2798693368872255,\n          -0.158404171800307,\n          0.5526054142389016\n        ],\n        \"semantic_type\": \"\",\n        \"description\": \"\"\n      }\n    },\n    {\n      \"column\": 3,\n      \"properties\": {\n        \"dtype\": \"number\",\n        \"std\": 1.1519082147485677,\n        \"min\": -3.2280672916806123,\n        \"max\": 3.5766048117379947,\n        \"num_unique_values\": 20000,\n        \"samples\": [\n          -0.33008633290683775,\n          0.8489026687392163,\n          0.10874674084544234\n        ],\n        \"semantic_type\": \"\",\n        \"description\": \"\"\n      }\n    },\n    {\n      \"column\": 4,\n      \"properties\": {\n        \"dtype\": \"number\",\n        \"std\": 1.0013335025775008,\n        \"min\": -3.7338621790039497,\n        \"max\": 3.9638177858356785,\n        \"num_unique_values\": 20000,\n        \"samples\": [\n          -1.4897828473460124,\n          1.665873128521724,\n          0.2969189374915805\n        ],\n        \"semantic_type\": \"\",\n        \"description\": \"\"\n      }\n    },\n    {\n      \"column\": 5,\n      \"properties\": {\n        \"dtype\": \"number\",\n        \"std\": 0.9882222151182255,\n        \"min\": -3.583615574514351,\n        \"max\": 3.957829482466946,\n        \"num_unique_values\": 20000,\n        \"samples\": [\n          0.0522475250636796,\n          0.24009019219336983,\n          -1.6300775027856083\n        ],\n        \"semantic_type\": \"\",\n        \"description\": \"\"\n      }\n    },\n    {\n      \"column\": 6,\n      \"properties\": {\n        \"dtype\": \"number\",\n        \"std\": 1.365150566967171,\n        \"min\": -5.546991566755396,\n        \"max\": 5.741509113535508,\n        \"num_unique_values\": 20000,\n        \"samples\": [\n          1.2767218016489845,\n          0.16764438475440158,\n          -2.2299419230474165\n        ],\n        \"semantic_type\": \"\",\n        \"description\": \"\"\n      }\n    },\n    {\n      \"column\": 7,\n      \"properties\": {\n        \"dtype\": \"number\",\n        \"std\": 1.0011946817711495,\n        \"min\": -4.161945924009997,\n        \"max\": 3.9923929220936327,\n        \"num_unique_values\": 20000,\n        \"samples\": [\n          0.5890403567746542,\n          -1.466303226035252,\n          -0.43260544937705553\n        ],\n        \"semantic_type\": \"\",\n        \"description\": \"\"\n      }\n    },\n    {\n      \"column\": \"label\",\n      \"properties\": {\n        \"dtype\": \"number\",\n        \"std\": 0,\n        \"min\": 0,\n        \"max\": 1,\n        \"num_unique_values\": 2,\n        \"samples\": [\n          0,\n          1\n        ],\n        \"semantic_type\": \"\",\n        \"description\": \"\"\n      }\n    }\n  ]\n}"
            }
          },
          "metadata": {},
          "execution_count": 60
        }
      ]
    },
    {
      "cell_type": "markdown",
      "source": [
        "# Now let's split the dataset into two parts, One as training dataset and the other for testing the model:"
      ],
      "metadata": {
        "id": "Tc25ZA-XrEEX"
      },
      "id": "Tc25ZA-XrEEX"
    },
    {
      "cell_type": "code",
      "execution_count": null,
      "id": "9e10b6dc-4574-4131-9520-a33ed28128ba",
      "metadata": {
        "id": "9e10b6dc-4574-4131-9520-a33ed28128ba"
      },
      "outputs": [],
      "source": [
        "# Split the dataset into training and test sets (80% train, 20% test)\n",
        "train_size = int(0.8 * len(df))\n",
        "train_set = df[:train_size]\n",
        "test_set = df[train_size:]"
      ]
    },
    {
      "cell_type": "code",
      "source": [
        "print(f\"Shape of the training_set: {train_set.shape}\\nShape of the test_set: {test_set.shape}\")"
      ],
      "metadata": {
        "colab": {
          "base_uri": "https://localhost:8080/"
        },
        "id": "piz7TPjKrciH",
        "outputId": "3c2ac1c2-d521-4c8c-e43e-4340b20cef64"
      },
      "id": "piz7TPjKrciH",
      "execution_count": null,
      "outputs": [
        {
          "output_type": "stream",
          "name": "stdout",
          "text": [
            "Shape of the training_set: (16000, 9)\n",
            "Shape of the test_set: (4000, 9)\n"
          ]
        }
      ]
    },
    {
      "cell_type": "markdown",
      "source": [
        "# So before begining to train our model we need to seperate features and labels of our datasets:"
      ],
      "metadata": {
        "id": "9pb7Ggl5r94r"
      },
      "id": "9pb7Ggl5r94r"
    },
    {
      "cell_type": "code",
      "execution_count": null,
      "id": "b295627d-df55-4ff9-a81d-585e32800f13",
      "metadata": {
        "id": "b295627d-df55-4ff9-a81d-585e32800f13"
      },
      "outputs": [],
      "source": [
        "# Separate features and labels\n",
        "X_train = train_set.drop('label', axis=1).values\n",
        "Y_train = train_set['label'].values\n",
        "X_test = test_set.drop('label', axis=1).values\n",
        "Y_test = test_set['label'].values"
      ]
    },
    {
      "cell_type": "code",
      "execution_count": null,
      "id": "b4ada8ab-1d58-4e0b-955a-331087b05022",
      "metadata": {
        "colab": {
          "base_uri": "https://localhost:8080/"
        },
        "id": "b4ada8ab-1d58-4e0b-955a-331087b05022",
        "outputId": "67de1f21-3513-48bc-fe84-9d0e83708eba"
      },
      "outputs": [
        {
          "output_type": "stream",
          "name": "stdout",
          "text": [
            "--> For the training set:\n",
            "\tshape(X_train): (16000, 8)\n",
            "\tShape(Y_train): (16000,)\n",
            "\n",
            "--> For the testing set:\n",
            "\tshape(X_test): (4000, 8)\n",
            "\tShape(Y_test): (4000,)\n"
          ]
        }
      ],
      "source": [
        "print(f\"--> For the training set:\\n\\tshape(X_train): {X_train.shape}\\n\\tShape(Y_train): {Y_train.shape}\\n\")\n",
        "print(f\"--> For the testing set:\\n\\tshape(X_test): {X_test.shape}\\n\\tShape(Y_test): {Y_test.shape}\")"
      ]
    },
    {
      "cell_type": "markdown",
      "source": [
        "# Nice, Now we use the training dataset to train our KNN model:"
      ],
      "metadata": {
        "id": "aBQy90tNts6w"
      },
      "id": "aBQy90tNts6w"
    },
    {
      "cell_type": "markdown",
      "source": [
        "## First let's make our KNN model by means of sklearn:"
      ],
      "metadata": {
        "id": "E8PT8Fg5w6_c"
      },
      "id": "E8PT8Fg5w6_c"
    },
    {
      "cell_type": "code",
      "execution_count": null,
      "id": "c8a0d33d-77ec-45ac-bbc4-145aa23c8ddc",
      "metadata": {
        "id": "c8a0d33d-77ec-45ac-bbc4-145aa23c8ddc"
      },
      "outputs": [],
      "source": [
        "# Making a KNN model\n",
        "knn = KNeighborsClassifier(n_neighbors=1, weights='distance', algorithm='brute', metric='euclidean')"
      ]
    },
    {
      "cell_type": "markdown",
      "source": [
        "## Now we need to fit ( train ) our model using the training data we got earlier:"
      ],
      "metadata": {
        "id": "DKOTuN54wsO7"
      },
      "id": "DKOTuN54wsO7"
    },
    {
      "cell_type": "code",
      "execution_count": null,
      "id": "a5f4bae5-8e18-40a8-83fc-074a087246f0",
      "metadata": {
        "colab": {
          "base_uri": "https://localhost:8080/",
          "height": 92
        },
        "id": "a5f4bae5-8e18-40a8-83fc-074a087246f0",
        "outputId": "12d5a698-5141-4598-84be-91d210c81fc1"
      },
      "outputs": [
        {
          "output_type": "execute_result",
          "data": {
            "text/plain": [
              "KNeighborsClassifier(algorithm='brute', metric='euclidean', n_neighbors=1,\n",
              "                     weights='distance')"
            ],
            "text/html": [
              "<style>#sk-container-id-2 {color: black;background-color: white;}#sk-container-id-2 pre{padding: 0;}#sk-container-id-2 div.sk-toggleable {background-color: white;}#sk-container-id-2 label.sk-toggleable__label {cursor: pointer;display: block;width: 100%;margin-bottom: 0;padding: 0.3em;box-sizing: border-box;text-align: center;}#sk-container-id-2 label.sk-toggleable__label-arrow:before {content: \"▸\";float: left;margin-right: 0.25em;color: #696969;}#sk-container-id-2 label.sk-toggleable__label-arrow:hover:before {color: black;}#sk-container-id-2 div.sk-estimator:hover label.sk-toggleable__label-arrow:before {color: black;}#sk-container-id-2 div.sk-toggleable__content {max-height: 0;max-width: 0;overflow: hidden;text-align: left;background-color: #f0f8ff;}#sk-container-id-2 div.sk-toggleable__content pre {margin: 0.2em;color: black;border-radius: 0.25em;background-color: #f0f8ff;}#sk-container-id-2 input.sk-toggleable__control:checked~div.sk-toggleable__content {max-height: 200px;max-width: 100%;overflow: auto;}#sk-container-id-2 input.sk-toggleable__control:checked~label.sk-toggleable__label-arrow:before {content: \"▾\";}#sk-container-id-2 div.sk-estimator input.sk-toggleable__control:checked~label.sk-toggleable__label {background-color: #d4ebff;}#sk-container-id-2 div.sk-label input.sk-toggleable__control:checked~label.sk-toggleable__label {background-color: #d4ebff;}#sk-container-id-2 input.sk-hidden--visually {border: 0;clip: rect(1px 1px 1px 1px);clip: rect(1px, 1px, 1px, 1px);height: 1px;margin: -1px;overflow: hidden;padding: 0;position: absolute;width: 1px;}#sk-container-id-2 div.sk-estimator {font-family: monospace;background-color: #f0f8ff;border: 1px dotted black;border-radius: 0.25em;box-sizing: border-box;margin-bottom: 0.5em;}#sk-container-id-2 div.sk-estimator:hover {background-color: #d4ebff;}#sk-container-id-2 div.sk-parallel-item::after {content: \"\";width: 100%;border-bottom: 1px solid gray;flex-grow: 1;}#sk-container-id-2 div.sk-label:hover label.sk-toggleable__label {background-color: #d4ebff;}#sk-container-id-2 div.sk-serial::before {content: \"\";position: absolute;border-left: 1px solid gray;box-sizing: border-box;top: 0;bottom: 0;left: 50%;z-index: 0;}#sk-container-id-2 div.sk-serial {display: flex;flex-direction: column;align-items: center;background-color: white;padding-right: 0.2em;padding-left: 0.2em;position: relative;}#sk-container-id-2 div.sk-item {position: relative;z-index: 1;}#sk-container-id-2 div.sk-parallel {display: flex;align-items: stretch;justify-content: center;background-color: white;position: relative;}#sk-container-id-2 div.sk-item::before, #sk-container-id-2 div.sk-parallel-item::before {content: \"\";position: absolute;border-left: 1px solid gray;box-sizing: border-box;top: 0;bottom: 0;left: 50%;z-index: -1;}#sk-container-id-2 div.sk-parallel-item {display: flex;flex-direction: column;z-index: 1;position: relative;background-color: white;}#sk-container-id-2 div.sk-parallel-item:first-child::after {align-self: flex-end;width: 50%;}#sk-container-id-2 div.sk-parallel-item:last-child::after {align-self: flex-start;width: 50%;}#sk-container-id-2 div.sk-parallel-item:only-child::after {width: 0;}#sk-container-id-2 div.sk-dashed-wrapped {border: 1px dashed gray;margin: 0 0.4em 0.5em 0.4em;box-sizing: border-box;padding-bottom: 0.4em;background-color: white;}#sk-container-id-2 div.sk-label label {font-family: monospace;font-weight: bold;display: inline-block;line-height: 1.2em;}#sk-container-id-2 div.sk-label-container {text-align: center;}#sk-container-id-2 div.sk-container {/* jupyter's `normalize.less` sets `[hidden] { display: none; }` but bootstrap.min.css set `[hidden] { display: none !important; }` so we also need the `!important` here to be able to override the default hidden behavior on the sphinx rendered scikit-learn.org. See: https://github.com/scikit-learn/scikit-learn/issues/21755 */display: inline-block !important;position: relative;}#sk-container-id-2 div.sk-text-repr-fallback {display: none;}</style><div id=\"sk-container-id-2\" class=\"sk-top-container\"><div class=\"sk-text-repr-fallback\"><pre>KNeighborsClassifier(algorithm=&#x27;brute&#x27;, metric=&#x27;euclidean&#x27;, n_neighbors=1,\n",
              "                     weights=&#x27;distance&#x27;)</pre><b>In a Jupyter environment, please rerun this cell to show the HTML representation or trust the notebook. <br />On GitHub, the HTML representation is unable to render, please try loading this page with nbviewer.org.</b></div><div class=\"sk-container\" hidden><div class=\"sk-item\"><div class=\"sk-estimator sk-toggleable\"><input class=\"sk-toggleable__control sk-hidden--visually\" id=\"sk-estimator-id-2\" type=\"checkbox\" checked><label for=\"sk-estimator-id-2\" class=\"sk-toggleable__label sk-toggleable__label-arrow\">KNeighborsClassifier</label><div class=\"sk-toggleable__content\"><pre>KNeighborsClassifier(algorithm=&#x27;brute&#x27;, metric=&#x27;euclidean&#x27;, n_neighbors=1,\n",
              "                     weights=&#x27;distance&#x27;)</pre></div></div></div></div></div>"
            ]
          },
          "metadata": {},
          "execution_count": 66
        }
      ],
      "source": [
        "# Training the model using the X_train,Y_train data which are splitted from the X,Y for this perpose (80% of data)\n",
        "knn.fit(X_train, Y_train)"
      ]
    },
    {
      "cell_type": "markdown",
      "source": [
        "## Good, let's test our fitted model using the test_set data:"
      ],
      "metadata": {
        "id": "w2aCWd4QxIDY"
      },
      "id": "w2aCWd4QxIDY"
    },
    {
      "cell_type": "code",
      "execution_count": null,
      "id": "8f3ddcee-21bd-42a8-a72a-ccbb67cebf84",
      "metadata": {
        "id": "8f3ddcee-21bd-42a8-a72a-ccbb67cebf84"
      },
      "outputs": [],
      "source": [
        "# Testing the model using the X_test set which we splitted from X erlier (the 20% of data):\n",
        "Y_pred = knn.predict(X_test)"
      ]
    },
    {
      "cell_type": "markdown",
      "source": [
        "### So this is how labels look like for X_test:"
      ],
      "metadata": {
        "id": "csfz-fRAxqAi"
      },
      "id": "csfz-fRAxqAi"
    },
    {
      "cell_type": "code",
      "source": [
        "Y_test"
      ],
      "metadata": {
        "colab": {
          "base_uri": "https://localhost:8080/"
        },
        "id": "9Z58uYDkxiLR",
        "outputId": "a12763a1-d2aa-4d12-da91-7db5a9c2a4b3"
      },
      "id": "9Z58uYDkxiLR",
      "execution_count": null,
      "outputs": [
        {
          "output_type": "execute_result",
          "data": {
            "text/plain": [
              "array([0, 0, 1, ..., 0, 0, 1])"
            ]
          },
          "metadata": {},
          "execution_count": 68
        }
      ]
    },
    {
      "cell_type": "markdown",
      "source": [
        "### And this is how our KNN model predicts thos labes by giving only the X_test to the model, while model doesn't know the actual labels for X_test data and it has to predict them according to the knowlege it has learnt from Training data we gave it earlier:"
      ],
      "metadata": {
        "id": "8qbF9E6hx5Or"
      },
      "id": "8qbF9E6hx5Or"
    },
    {
      "cell_type": "code",
      "source": [
        "Y_pred"
      ],
      "metadata": {
        "colab": {
          "base_uri": "https://localhost:8080/"
        },
        "id": "e9kHL8OnxWZh",
        "outputId": "785b1a3d-490e-400f-d096-a5c958e035b8"
      },
      "id": "e9kHL8OnxWZh",
      "execution_count": null,
      "outputs": [
        {
          "output_type": "execute_result",
          "data": {
            "text/plain": [
              "array([0, 0, 1, ..., 0, 0, 1])"
            ]
          },
          "metadata": {},
          "execution_count": 69
        }
      ]
    },
    {
      "cell_type": "markdown",
      "source": [
        "## Cool! It seems our model has predicted the labels with good accuracy, Now let's calculate the accuracy and see how well this model is trained:"
      ],
      "metadata": {
        "id": "VSNiSLLbypdC"
      },
      "id": "VSNiSLLbypdC"
    },
    {
      "cell_type": "code",
      "execution_count": null,
      "id": "4586c1c8-3dfa-4a95-9b6f-ca118ae3210c",
      "metadata": {
        "colab": {
          "base_uri": "https://localhost:8080/"
        },
        "id": "4586c1c8-3dfa-4a95-9b6f-ca118ae3210c",
        "outputId": "e2f46200-c48b-48d5-eb00-8a9c1a4a831f"
      },
      "outputs": [
        {
          "output_type": "stream",
          "name": "stdout",
          "text": [
            "Accuracy of the model: 84.75%\n"
          ]
        }
      ],
      "source": [
        "# Calculating the accuracy of the model:\n",
        "accuracy = accuracy_score(Y_test, Y_pred)\n",
        "print(f'Accuracy of the model: {accuracy*100:.2f}%')"
      ]
    }
  ],
  "metadata": {
    "kernelspec": {
      "display_name": "Python 3 (ipykernel)",
      "language": "python",
      "name": "python3"
    },
    "language_info": {
      "codemirror_mode": {
        "name": "ipython",
        "version": 3
      },
      "file_extension": ".py",
      "mimetype": "text/x-python",
      "name": "python",
      "nbconvert_exporter": "python",
      "pygments_lexer": "ipython3",
      "version": "3.11.8"
    },
    "colab": {
      "provenance": [],
      "include_colab_link": true
    }
  },
  "nbformat": 4,
  "nbformat_minor": 5
}